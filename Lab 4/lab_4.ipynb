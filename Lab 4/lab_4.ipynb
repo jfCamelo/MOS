{
 "cells": [
  {
   "cell_type": "markdown",
   "metadata": {},
   "source": [
    "## Hecho Por: Juan Felipe Camelo, Silvana Sandoval, Adrián Suárez"
   ]
  },
  {
   "cell_type": "markdown",
   "metadata": {},
   "source": [
    "### Importación de las librerías a usar"
   ]
  },
  {
   "cell_type": "code",
   "execution_count": 1,
   "metadata": {},
   "outputs": [],
   "source": [
    "import pyomo\n",
    "import numpy as np\n",
    "from scipy.optimize import linprog"
   ]
  },
  {
   "cell_type": "markdown",
   "metadata": {},
   "source": [
    "# Ejercicio 1"
   ]
  },
  {
   "cell_type": "code",
   "execution_count": null,
   "metadata": {},
   "outputs": [],
   "source": []
  },
  {
   "cell_type": "markdown",
   "metadata": {},
   "source": [
    "# Ejercicio 2"
   ]
  },
  {
   "cell_type": "markdown",
   "metadata": {},
   "source": [
    "Paso 1: Definir el problema teniendo en cuenta las variables de holgura. Esto se hace para convertir las desigualdades en igualdades. Para esto se transformará el problema: $$\\text{max}(3x_1 + 2x_2)$$ en $$\\text{max}(3x_1 + 2x_2+ 0s_1 + 0s_2 + 0s_3)$$ siendo $$s_1, s_2, s_3$$ las variables de holgura."
   ]
  },
  {
   "cell_type": "code",
   "execution_count": 2,
   "metadata": {},
   "outputs": [],
   "source": [
    "c = np.array([-3, -2, 0, 0, 0]) #Estás se añaden de manera negativa para poder añadirlas al simplex tableau después"
   ]
  },
  {
   "cell_type": "markdown",
   "metadata": {},
   "source": [
    "Paso 2: Establecer la matriz de restricciones que se usará en las iteraciones. Esto se hace de esta manera, en una primera instancia, para entender con qué se está trabajando"
   ]
  },
  {
   "cell_type": "code",
   "execution_count": 3,
   "metadata": {},
   "outputs": [],
   "source": [
    "tabla = {\n",
    "    \"Basic\" : ['s1', 's2', 's3', 'Z'], #columna izquierda\n",
    "    \"x1\": [2, 1, 1, -3],\n",
    "    \"x2\": [1, 1, 0, -2],\n",
    "    \"s1\": [1, 0, 0, 0],\n",
    "    \"s2\": [0, 1, 0, 0],\n",
    "    \"s3\": [0, 0, 1, 0],\n",
    "    \"b\": [100, 80, 40, 0]\n",
    "}"
   ]
  },
  {
   "cell_type": "markdown",
   "metadata": {},
   "source": [
    "Paso 3: escribirla de tal manera que se pueda pasar por parámetro en una función sin problema alguno."
   ]
  },
  {
   "cell_type": "code",
   "execution_count": 4,
   "metadata": {},
   "outputs": [],
   "source": [
    "A = np.array([\n",
    "    [2, 1, 1, 0, 0], \n",
    "    [1, 1, 0, 1, 0],\n",
    "    [1, 0, 0, 0, 1]\n",
    "], dtype=float)\n"
   ]
  },
  {
   "cell_type": "markdown",
   "metadata": {},
   "source": [
    "Paso 4: escribir la columna b (la del lado derecho de la igualdad.)"
   ]
  },
  {
   "cell_type": "code",
   "execution_count": 5,
   "metadata": {},
   "outputs": [],
   "source": [
    "b = np.array([100, 80, 40], dtype=float)"
   ]
  },
  {
   "cell_type": "markdown",
   "metadata": {},
   "source": [
    "Paso 5: Construimos la tabla que tenga tanto la matriz A como el vector b. Además, le añadiremos una fila de costos para asegurarnos de poder identificar la columna pivote (es decir, la que reemplazará una de las variables slack)."
   ]
  },
  {
   "cell_type": "code",
   "execution_count": 6,
   "metadata": {},
   "outputs": [],
   "source": [
    "tableau = np.hstack([A, b.reshape(-1, 1)]).astype(float) #Se convierte b en una matriz columna y se concatena con A\n",
    "tableau = np.vstack([tableau, np.hstack([c, np.array([0])])]) #Se añade la matriz los costos hechos anteriormente"
   ]
  },
  {
   "cell_type": "markdown",
   "metadata": {},
   "source": [
    "Paso 5: implementar el algoritmo simplex para resolver este problema."
   ]
  },
  {
   "cell_type": "code",
   "execution_count": 7,
   "metadata": {},
   "outputs": [],
   "source": [
    "def simplex(tableau, coordinates):\n",
    "\n",
    "    num_rows, num_cols = tableau.shape\n",
    "\n",
    "    x1, x2 = coordinates  # Coordenadas de las variables de decisión\n",
    "\n",
    "    tableau[0, -1] = 100 - (2 * x1 + x2)  # Restricción 1: 2x1 + x2 <= 100\n",
    "    tableau[1, -1] = 80 - (x1 + x2)       # Restricción 2: x1 + x2 <= 80\n",
    "    tableau[2, -1] = 40 - x1              # Restricción 3: x1 <= 40\n",
    "\n",
    "    # Iterar hasta que se cumpla la prueba de optimalidad (no haya negativos en la fila de Z)\n",
    "    while np.any(tableau[-1, :-1] < 0):  # Si hay valores negativos, no es óptimo\n",
    "        # 1. Identificar variable entrante: el valor más negativo en la fila de Z (función objetivo)\n",
    "        pivot_col = np.argmin(tableau[-1, :-1])  # Columna con el valor más negativo\n",
    "        \n",
    "        # 2. Realizar la prueba de optimalidad: encontrar la variable saliente (la fila pivote)\n",
    "        # Regla de la razón mínima: ratios de RHS / coeficientes de la columna pivote (sólo positivos)\n",
    "        ratios = np.divide(tableau[:-1, -1], tableau[:-1, pivot_col],\n",
    "                           out=np.full_like(tableau[:-1, -1], np.inf), \n",
    "                           where=tableau[:-1, pivot_col] > 0)\n",
    "        pivot_row = np.argmin(ratios)  # Fila con el menor ratio positivo\n",
    "        \n",
    "        # 3. Realizar el pivoteo en torno al elemento pivote\n",
    "        pivot_element = tableau[pivot_row, pivot_col]\n",
    "        tableau[pivot_row, :] /= pivot_element  # Escalar la fila pivote para hacer el pivote = 1\n",
    "        \n",
    "        # Hacer ceros en las otras filas de la columna pivote\n",
    "        for i in range(num_rows):\n",
    "            if i != pivot_row:\n",
    "                tableau[i, :] -= tableau[i, pivot_col] * tableau[pivot_row, :]\n",
    "    \n",
    "    # Cuando no haya valores negativos en la fila de Z, hemos alcanzado la optimalidad\n",
    "    return tableau\n",
    "\n"
   ]
  },
  {
   "cell_type": "markdown",
   "metadata": {},
   "source": [
    "Finalmente, nos encargaremos de calcular el tableua optimo e imprimirlo"
   ]
  },
  {
   "cell_type": "code",
   "execution_count": 8,
   "metadata": {},
   "outputs": [
    {
     "name": "stdout",
     "output_type": "stream",
     "text": [
      "Optimal Tableau:\n",
      " [[  0   1  -1   2   0  60]\n",
      " [  0   0  -1   1   1  20]\n",
      " [  1   0   1  -1   0  20]\n",
      " [  0   0   1   1   0 180]]\n",
      "Optimal Solution: [ 60  20  20 180]\n"
     ]
    }
   ],
   "source": [
    "coordenadas = np.array([0,0], dtype=float)\n",
    "tableau_optimo = simplex(tableau=tableau, coordinates=coordenadas)\n",
    "tableau_optimo = tableau_optimo.astype(int)\n",
    "print(\"Optimal Tableau:\\n\", tableau_optimo)\n",
    "print(\"Optimal Solution:\", tableau_optimo[:, -1])"
   ]
  },
  {
   "cell_type": "markdown",
   "metadata": {},
   "source": [
    "Como se puede ver, los valores óptimos para $$x_1 = 40$$ y para $$x_2 = 100$$ "
   ]
  },
  {
   "cell_type": "markdown",
   "metadata": {},
   "source": [
    "Ahora para ver mejor el resultado se borrarán las filas que no son de las variables de holgura."
   ]
  },
  {
   "cell_type": "code",
   "execution_count": 9,
   "metadata": {},
   "outputs": [],
   "source": [
    "def contar_no_basicas(tabla):\n",
    "    #primero, buscaremos el número de variables no báiscas dentro de la tabla de variables\n",
    "    contador = 0\n",
    "    for variable in tabla:\n",
    "        if \"x\" in variable:\n",
    "            contador +=1\n",
    "    return contador\n",
    "\n",
    "def eliminar_holgura(tabla, tableau):\n",
    "\n",
    "    contador = contar_no_basicas(tabla)\n",
    "    num_filas, num_columnas = tableau.shape\n",
    "\n",
    "    #Ahora vamos a buscar las variables no basicas\n",
    "    array = []\n",
    "    for i in range (0, num_filas):\n",
    "        element = tableau[i]\n",
    "\n",
    "        for j in range (0, (contador)):\n",
    "            x = element[j]\n",
    "            if x == 1.:\n",
    "                array.append(element.tolist())\n",
    "    \n",
    "    return array\n",
    "\n",
    "\n"
   ]
  },
  {
   "cell_type": "code",
   "execution_count": 10,
   "metadata": {},
   "outputs": [
    {
     "name": "stdout",
     "output_type": "stream",
     "text": [
      "[0.0, 1.0, -1.0, 2.0, 0.0, 60.0]\n",
      "[1.0, 0.0, 1.0, -1.0, 0.0, 20.0]\n"
     ]
    }
   ],
   "source": [
    "array = eliminar_holgura(tabla=tabla, tableau=tableau)\n",
    "for i in array:\n",
    "    print(i)"
   ]
  }
 ],
 "metadata": {
  "kernelspec": {
   "display_name": "base",
   "language": "python",
   "name": "python3"
  },
  "language_info": {
   "codemirror_mode": {
    "name": "ipython",
    "version": 3
   },
   "file_extension": ".py",
   "mimetype": "text/x-python",
   "name": "python",
   "nbconvert_exporter": "python",
   "pygments_lexer": "ipython3",
   "version": "3.12.3"
  }
 },
 "nbformat": 4,
 "nbformat_minor": 2
}
