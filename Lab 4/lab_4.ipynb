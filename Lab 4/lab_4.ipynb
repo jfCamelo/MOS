{
 "cells": [
  {
   "cell_type": "markdown",
   "metadata": {},
   "source": [
    "## Hecho Por: Juan Felipe Camelo, Silvana Sandoval, Adrián Suárez"
   ]
  },
  {
   "cell_type": "markdown",
   "metadata": {},
   "source": [
    "### Importación de las librerías a usar"
   ]
  },
  {
   "cell_type": "code",
   "execution_count": 1,
   "metadata": {},
   "outputs": [],
   "source": [
    "import pyomo\n",
    "import numpy as np\n",
    "from scipy.optimize import linprog"
   ]
  },
  {
   "cell_type": "markdown",
   "metadata": {},
   "source": [
    "# Ejercicio 1"
   ]
  },
  {
   "cell_type": "code",
   "execution_count": null,
   "metadata": {},
   "outputs": [],
   "source": []
  },
  {
   "cell_type": "markdown",
   "metadata": {},
   "source": [
    "# Ejercicio 2"
   ]
  },
  {
   "cell_type": "markdown",
   "metadata": {},
   "source": [
    "Paso 1: Definir el problema teniendo en cuenta las variables de holgura. Esto se hace para convertir las desigualdades en igualdades. Para esto se transformará el problema: $$\\text{max}(3x_1 + 2x_2)$$ en $$\\text{max}(3x_1 + 2x_2+ 0s_1 + 0s_2 + 0s_3)$$ siendo $$s_1, s_2, s_3$$ las variables de holgura."
   ]
  },
  {
   "cell_type": "code",
   "execution_count": null,
   "metadata": {},
   "outputs": [],
   "source": [
    "c = np.array([-3, -2, 0, 0, 0]) #Estás se añaden de manera negativa para poder añadirlas al simplex tableau después"
   ]
  },
  {
   "cell_type": "markdown",
   "metadata": {},
   "source": [
    "Paso 2: Establecer la matriz de restricciones que se usará en las iteraciones. Esto se hace de esta manera, en una primera instancia, para entender con qué se está trabajando"
   ]
  },
  {
   "cell_type": "code",
   "execution_count": 2,
   "metadata": {},
   "outputs": [],
   "source": [
    "tabla = {\n",
    "    \"Basic\" : ['s1', 's2', 's3', 'Z'], #columna izquierda\n",
    "    \"x1\": [2, 1, 1, -3],\n",
    "    \"x2\": [1, 1, 0, -2],\n",
    "    \"s1\": [1, 0, 0, 0],\n",
    "    \"s2\": [0, 1, 0, 0],\n",
    "    \"s3\": [0, 0, 1, 0],\n",
    "    \"b\": [100, 80, 40, 0]\n",
    "}"
   ]
  },
  {
   "cell_type": "markdown",
   "metadata": {},
   "source": [
    "Paso 3: escribirla de tal manera que se pueda pasar por parámetro en una función sin problema alguno."
   ]
  },
  {
   "cell_type": "code",
   "execution_count": null,
   "metadata": {},
   "outputs": [],
   "source": [
    "A = np.array([2, 1, 1, 0, 0],\n",
    "             [1, 1, 0, 1, 0],\n",
    "             [1, 0, 0, 0, 1])"
   ]
  },
  {
   "cell_type": "markdown",
   "metadata": {},
   "source": [
    "Paso 4: escribir la columna b (la del lado derecho de la igualdad.)"
   ]
  },
  {
   "cell_type": "code",
   "execution_count": null,
   "metadata": {},
   "outputs": [],
   "source": [
    "b = np.array([100, 80, 40])"
   ]
  },
  {
   "cell_type": "markdown",
   "metadata": {},
   "source": [
    "Paso 5: Construimos la tabla que tenga tanto la matriz A como el vector b. Además, le añadiremos una fila de costos para asegurarnos de poder identificar la columna pivote (es decir, la que reemplazará una de las variables slack)."
   ]
  },
  {
   "cell_type": "code",
   "execution_count": 3,
   "metadata": {},
   "outputs": [],
   "source": [
    "tableau = np.hstack([A, b.reshape(-1, 1)]) #Se convierte b en una matriz columna y se concatena con A\n",
    "tableau = np.vstack([tableau, np.hstack([c, np.array([0])])]) #Se añade la matriz los costos hechos anteriormente"
   ]
  },
  {
   "cell_type": "markdown",
   "metadata": {},
   "source": [
    "Paso 5: implementar el algoritmo simplex para resolver este problema."
   ]
  },
  {
   "cell_type": "code",
   "execution_count": 4,
   "metadata": {},
   "outputs": [],
   "source": [
    "x_bounds = [(0,40), (0, None)]"
   ]
  }
 ],
 "metadata": {
  "kernelspec": {
   "display_name": "base",
   "language": "python",
   "name": "python3"
  },
  "language_info": {
   "codemirror_mode": {
    "name": "ipython",
    "version": 3
   },
   "file_extension": ".py",
   "mimetype": "text/x-python",
   "name": "python",
   "nbconvert_exporter": "python",
   "pygments_lexer": "ipython3",
   "version": "3.12.3"
  }
 },
 "nbformat": 4,
 "nbformat_minor": 2
}
